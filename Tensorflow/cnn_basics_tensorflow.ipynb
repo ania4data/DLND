{
 "cells": [
  {
   "cell_type": "code",
   "execution_count": 1,
   "metadata": {},
   "outputs": [
    {
     "name": "stderr",
     "output_type": "stream",
     "text": [
      "/home/ania/anaconda3/lib/python3.6/site-packages/h5py/__init__.py:36: FutureWarning: Conversion of the second argument of issubdtype from `float` to `np.floating` is deprecated. In future, it will be treated as `np.float64 == np.dtype(float).type`.\n",
      "  from ._conv import register_converters as _register_converters\n"
     ]
    }
   ],
   "source": [
    "import tensorflow as tf\n",
    "\n"
   ]
  },
  {
   "cell_type": "code",
   "execution_count": 2,
   "metadata": {},
   "outputs": [],
   "source": [
    "# output depth\n",
    "k_output = 64\n",
    "\n",
    "# image dimensions\n",
    "image_width = 10\n",
    "image_height = 10\n",
    "color_channels = 3\n",
    "\n",
    "# convolution filter dimensions\n",
    "filter_size_width = 5\n",
    "filter_size_height = 5\n",
    "\n",
    "# input/image\n",
    "input = tf.placeholder(tf.float32,shape=[None, image_height, image_width, color_channels]) #batch*h*w*color\n",
    "\n",
    "\n"
   ]
  },
  {
   "cell_type": "code",
   "execution_count": 3,
   "metadata": {},
   "outputs": [],
   "source": [
    "#5*5*3   * classes   for a 2d conv  (if color channel is inside the weight why we have in stride?!!)\n",
    "#does stride 1 means look at all color channel, then use weight 5*5*3 on them. if e.g. input had four channel \n",
    "#and we skipped 1 through stride, still could use 5*5*3 weights\n",
    "weight = tf.Variable(tf.truncated_normal([filter_size_height, filter_size_width, color_channels, k_output]))\n",
    "\n",
    "bias=tf.Variable(tf.zeros([k_output]))\n",
    "#(Note: using tf.add() doesn't work when the tensors aren't the same shape.)"
   ]
  },
  {
   "cell_type": "code",
   "execution_count": 4,
   "metadata": {},
   "outputs": [],
   "source": [
    "conv_layer = tf.nn.conv2d(input, weight, strides=[1, 2, 2, 1], padding='SAME')  \n",
    "#[1,2,2,1]  1 for batch (goes through every image), 2*2 for height*width *1 for color channel!\n",
    "\n",
    "conv_layer=tf.nn.bias_add(conv_layer,bias)\n",
    "conv_layer=tf.nn.relu(conv_layer)\n",
    "\n",
    "\n",
    "# generally always set the stride for batch and input_channels (i.e. the first and fourth element in the \n",
    "#strides array) to be 1. This ensures that the model uses all batches and input channels. (It's good \n",
    "#practice to remove the batches or channels you want to skip from the data set rather than use a stride to skip them.)"
   ]
  },
  {
   "cell_type": "code",
   "execution_count": null,
   "metadata": {},
   "outputs": [],
   "source": []
  }
 ],
 "metadata": {
  "kernelspec": {
   "display_name": "Python 3",
   "language": "python",
   "name": "python3"
  },
  "language_info": {
   "codemirror_mode": {
    "name": "ipython",
    "version": 3
   },
   "file_extension": ".py",
   "mimetype": "text/x-python",
   "name": "python",
   "nbconvert_exporter": "python",
   "pygments_lexer": "ipython3",
   "version": "3.6.5"
  }
 },
 "nbformat": 4,
 "nbformat_minor": 2
}
